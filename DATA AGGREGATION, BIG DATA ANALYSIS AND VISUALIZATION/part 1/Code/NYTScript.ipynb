{
 "cells": [
  {
   "cell_type": "code",
   "execution_count": 4,
   "metadata": {},
   "outputs": [
    {
     "name": "stderr",
     "output_type": "stream",
     "text": [
      "[nltk_data] Downloading package stopwords to\n",
      "[nltk_data]     /Users/siddharthpandey/nltk_data...\n",
      "[nltk_data]   Package stopwords is already up-to-date!\n",
      "[nltk_data] Downloading package punkt to\n",
      "[nltk_data]     /Users/siddharthpandey/nltk_data...\n",
      "[nltk_data]   Package punkt is already up-to-date!\n"
     ]
    }
   ],
   "source": [
    "import nltk\n",
    "import ssl\n",
    "import string\n",
    "\n",
    "try:\n",
    "    _create_unverified_https_context = ssl._create_unverified_context\n",
    "except AttributeError:\n",
    "    pass\n",
    "else:\n",
    "    ssl._create_default_https_context = _create_unverified_https_context\n",
    "\n",
    "\n",
    "nltk.download('stopwords')\n",
    "nltk.download('punkt')\n",
    "from nytimesarticle import articleAPI\n",
    "api = articleAPI('API KEY HERE')\n",
    "import requests\n",
    "import re\n",
    "from bs4 import BeautifulSoup\n",
    "import csv"
   ]
  },
  {
   "cell_type": "code",
   "execution_count": 5,
   "metadata": {
    "scrolled": false
   },
   "outputs": [
    {
     "name": "stdout",
     "output_type": "stream",
     "text": [
      "TOPIC NOW: \n",
      "molestation\n",
      "EXTRACTING DATA\n",
      "100\n",
      "WRITING DATA TO FILE...\n",
      "*********** FILE WRITE COMPLETE ***************\n",
      "*********** TOPIC ENDS HERE ***************\n",
      "*********** SLEEPING FOR 10 SECONDS TO STABILIZE ***********\n",
      "TOPIC NOW: \n",
      "harassment\n",
      "EXTRACTING DATA\n",
      "100\n",
      "WRITING DATA TO FILE...\n",
      "*********** FILE WRITE COMPLETE ***************\n",
      "*********** TOPIC ENDS HERE ***************\n",
      "*********** SLEEPING FOR 10 SECONDS TO STABILIZE ***********\n",
      "DATA SEARCH ENDS HERE\n"
     ]
    }
   ],
   "source": [
    "from nltk.corpus import stopwords \n",
    "from nltk.tokenize import word_tokenize \n",
    "from nltk.stem import PorterStemmer\n",
    "import time\n",
    "import datetime\n",
    "import os\n",
    "\n",
    "now = datetime.datetime.now()\n",
    "\n",
    "TAG_RE = re.compile(r'<[^>]+>')\n",
    "\n",
    "def remove_tags(text):\n",
    "    return TAG_RE.sub('', text)\n",
    "\n",
    "\n",
    "\n",
    "#topics = [\"cybersecurity\",\"hack\",\"cybercrime\"]\n",
    "topics = [\"molestation\",\"harassment\"]\n",
    "for topic in (topics):\n",
    "    newsUrls = []\n",
    "    #print(len(newsUrls))\n",
    "    print(\"TOPIC NOW: \")\n",
    "    print(topic)\n",
    "    for i in range(0,10):\n",
    "       # print(\"LOOP: \")\n",
    "       # print(i)\n",
    "        articles = api.search( q = \"molestation\", fq = {'source':['The New York Times']},  page=str(i))\n",
    "        try:\n",
    "            #print(\"RECEIVING DATA...\")\n",
    "            newsUrls = newsUrls + articles['response']['docs']\n",
    "            time.sleep(1)\n",
    "        except:\n",
    "            pass\n",
    "    #print(\"---ONE TOPIC END---\")\n",
    "    print(\"EXTRACTING DATA\")\n",
    "    allUrls=[]\n",
    "    for j in newsUrls:\n",
    "        allUrls.append(j['web_url'])\n",
    "    \n",
    "    print(len(allUrls))\n",
    "    print(\"WRITING DATA TO FILE...\")\n",
    "    finalData = []\n",
    "    co=0\n",
    "    sum=0\n",
    "    for i in allUrls:\n",
    "        #print(i)\n",
    "        response=requests.get(i)\n",
    "        #print(response.status_code)’\n",
    "        stripped = re.sub('<[^<]+?>', '', response.text)\n",
    "        soup = BeautifulSoup(response.text, 'html.parser')\n",
    "        res=\"\"\n",
    "        for i in soup.findAll('p'):\n",
    "            res=res+str(i)\n",
    "\n",
    "        co = co+1\n",
    "        #print(\"*********the article ends here****************\")\n",
    "        content = remove_tags(res)\n",
    "        content = content.replace(\"Advertisement\",\"\")\n",
    "\n",
    "        finalString = \"\"\n",
    "        punctuations = '''!()-[]{};:'’\"\\,.,”“.“‘<>—./?@#$%^&*_~'''\n",
    "        for character in content:\n",
    "            if(character not in punctuations):\n",
    "                 finalString = finalString + character\n",
    "\n",
    "        stop_words = set(stopwords.words('english')) \n",
    "        word_tokens = word_tokenize(finalString)\n",
    "\n",
    "        filtered_sentence = []\n",
    "        for w in word_tokens: \n",
    "            if w not in stop_words: \n",
    "                #print(\"Word to be aded\")\n",
    "                #print(w)\n",
    "                filtered_sentence.append(unicode(w, errors='ignore')) \n",
    "\n",
    "        finalStem =[]\n",
    "        porter = PorterStemmer()\n",
    "        for words in range(0,len(filtered_sentence)):\n",
    "            #print(filtered_sentence[words])\n",
    "            wrd = porter.stem(filtered_sentence[words])\n",
    "            finalStem.append(wrd)\n",
    "\n",
    "        for data in (finalStem):\n",
    "            file1 = open(os.getcwd()+'/'+topic+now.strftime(\"%Y-%m-%d %H:%M\")+'.txt', 'a')\n",
    "            file1.write(data.encode('utf-8')+' ')\n",
    "        file1.write('\\n\\n')\n",
    "        file1.close()\n",
    "    print(\"*********** FILE WRITE COMPLETE ***************\") \n",
    "    print(\"*********** TOPIC ENDS HERE ***************\")\n",
    "    print(\"*********** SLEEPING FOR 10 SECONDS TO STABILIZE ***********\")\n",
    "    time.sleep(10)\n",
    "        \n",
    "print(\"DATA SEARCH ENDS HERE\")         \n",
    "    \n",
    "\n",
    "      \n",
    "      "
   ]
  },
  {
   "cell_type": "code",
   "execution_count": null,
   "metadata": {},
   "outputs": [],
   "source": []
  },
  {
   "cell_type": "code",
   "execution_count": null,
   "metadata": {
    "scrolled": false
   },
   "outputs": [],
   "source": []
  },
  {
   "cell_type": "code",
   "execution_count": null,
   "metadata": {
    "scrolled": true
   },
   "outputs": [],
   "source": []
  }
 ],
 "metadata": {
  "kernelspec": {
   "display_name": "virtualEnv",
   "language": "python",
   "name": "virtualenv"
  },
  "language_info": {
   "codemirror_mode": {
    "name": "ipython",
    "version": 2
   },
   "file_extension": ".py",
   "mimetype": "text/x-python",
   "name": "python",
   "nbconvert_exporter": "python",
   "pygments_lexer": "ipython2",
   "version": "2.7.15"
  }
 },
 "nbformat": 4,
 "nbformat_minor": 2
}
