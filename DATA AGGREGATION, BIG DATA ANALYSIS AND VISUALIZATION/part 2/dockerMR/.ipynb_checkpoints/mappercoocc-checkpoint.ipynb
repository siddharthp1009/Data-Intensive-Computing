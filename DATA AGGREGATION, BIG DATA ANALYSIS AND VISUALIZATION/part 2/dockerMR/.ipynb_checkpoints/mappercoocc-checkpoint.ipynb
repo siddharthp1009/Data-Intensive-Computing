{
 "cells": [
  {
   "cell_type": "code",
   "execution_count": 5,
   "metadata": {},
   "outputs": [
    {
     "name": "stdout",
     "output_type": "stream",
     "text": [
      "arrest million\t1\n",
      "million trade\t1\n",
      "trade author\t1\n",
      "author news\t1\n",
      "news month\t1\n",
      "month charg\t1\n",
      "charg part\t1\n",
      "part mani\t1\n",
      "mani parti\t1\n",
      "parti Fg\t1\n",
      "arrest Dfgh\t1\n",
      "trade 54\t1\n",
      "trade 67\t1\n",
      "arrest Staffs\t1\n"
     ]
    }
   ],
   "source": [
    "import sys\n",
    "\n",
    "# input comes from STDIN (standard input)\n",
    "coword = [\"arrest\",\n",
    "\"million\",\n",
    "\"trade\",\n",
    "\"author\",\n",
    "\"news\",\n",
    "\"month\",\n",
    "\"charg\",\n",
    "\"part\",\n",
    "\"mani\",\n",
    "\"parti\"]\n",
    "\n",
    "top10Writer = open(\"/Users/siddharthpandey/Desktop/MS/DIC/Lab2/dockerMR/outputTwitter/testforcoc.txt\",'r');\n",
    "\n",
    "for line in top10Writer:\n",
    "   # print(line)\n",
    "    line = line.strip()\n",
    "   # print(\"*****\")\n",
    "   # print(line)\n",
    "   # print(\"*****\")\n",
    "    words = line.split()\n",
    "   # print (words)\n",
    "   # print(\"******\")\n",
    "    for word in range(0,len(words)):\n",
    "        if words[word] in coword:\n",
    "             print '%s\\t%s' % (words[word]+' '+words[word+1], 1)\n",
    "    \n",
    "\n",
    "\n",
    "#for line in sys.stdin:\n",
    "#    print(line)\n",
    "#    # remove leading and trailing whitespace\n",
    "#    line = line.strip()\n",
    "#    # split the line into words\n",
    "#    words = line.split()\n",
    "#    # increase counters\n",
    "#    for word in words:\n",
    "#       \n",
    "#        # write the results to STDOUT (standard output);\n",
    "#        # what we output here will be the input for the\n",
    "#        # Reduce step, i.e. the input for reducer.py\n",
    "#        #\n",
    "#        # tab-delimited; the trivial word count is 1\n",
    "#            print '%s\\t%s' % (word, 1)\n",
    "#        \n",
    "        "
   ]
  },
  {
   "cell_type": "code",
   "execution_count": null,
   "metadata": {},
   "outputs": [],
   "source": []
  }
 ],
 "metadata": {
  "kernelspec": {
   "display_name": "virtualEnv",
   "language": "python",
   "name": "virtualenv"
  },
  "language_info": {
   "codemirror_mode": {
    "name": "ipython",
    "version": 2
   },
   "file_extension": ".py",
   "mimetype": "text/x-python",
   "name": "python",
   "nbconvert_exporter": "python",
   "pygments_lexer": "ipython2",
   "version": "2.7.15"
  }
 },
 "nbformat": 4,
 "nbformat_minor": 2
}
