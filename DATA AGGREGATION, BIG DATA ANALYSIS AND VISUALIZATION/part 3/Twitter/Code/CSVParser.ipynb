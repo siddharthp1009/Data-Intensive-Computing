{
 "cells": [
  {
   "cell_type": "code",
   "execution_count": 1,
   "metadata": {},
   "outputs": [
    {
     "ename": "IOError",
     "evalue": "[Errno 2] No such file or directory: '/DRIVE PATH H/#cybersecurity.txt'",
     "output_type": "error",
     "traceback": [
      "\u001b[0;31m---------------------------------------------------------------------------\u001b[0m",
      "\u001b[0;31mIOError\u001b[0m                                   Traceback (most recent call last)",
      "\u001b[0;32m<ipython-input-1-2f9098dca5c7>\u001b[0m in \u001b[0;36m<module>\u001b[0;34m()\u001b[0m\n\u001b[1;32m     22\u001b[0m \u001b[0;32mfor\u001b[0m \u001b[0mtopic\u001b[0m \u001b[0;32min\u001b[0m \u001b[0mtopics\u001b[0m\u001b[0;34m:\u001b[0m\u001b[0;34m\u001b[0m\u001b[0m\n\u001b[1;32m     23\u001b[0m     \u001b[0;31m#print(topic)\u001b[0m\u001b[0;34m\u001b[0m\u001b[0;34m\u001b[0m\u001b[0m\n\u001b[0;32m---> 24\u001b[0;31m     \u001b[0moutput\u001b[0m\u001b[0;34m=\u001b[0m\u001b[0mopen\u001b[0m\u001b[0;34m(\u001b[0m\u001b[0;34m'/DRIVE PATH H/'\u001b[0m\u001b[0;34m+\u001b[0m\u001b[0mtopic\u001b[0m\u001b[0;34m+\u001b[0m\u001b[0;34m'.txt'\u001b[0m\u001b[0;34m,\u001b[0m\u001b[0;34m'a'\u001b[0m\u001b[0;34m)\u001b[0m\u001b[0;34m\u001b[0m\u001b[0m\n\u001b[0m\u001b[1;32m     25\u001b[0m     \u001b[0;31m#print(os.getcwd()+'/ORIGINAL DATA/'+'topic'+'.csv')\u001b[0m\u001b[0;34m\u001b[0m\u001b[0;34m\u001b[0m\u001b[0m\n\u001b[1;32m     26\u001b[0m     \u001b[0;32mwith\u001b[0m \u001b[0mopen\u001b[0m\u001b[0;34m(\u001b[0m\u001b[0;34m'/Users/siddharthpandey/Desktop/MS/DIC/Lab2/data/tw/tw/ORIGINAL_DATA/'\u001b[0m\u001b[0;34m+\u001b[0m\u001b[0mtopic\u001b[0m\u001b[0;34m+\u001b[0m\u001b[0;34m'.csv'\u001b[0m\u001b[0;34m,\u001b[0m\u001b[0;34m\"rt\"\u001b[0m\u001b[0;34m)\u001b[0m \u001b[0;32mas\u001b[0m \u001b[0mf\u001b[0m\u001b[0;34m:\u001b[0m\u001b[0;34m\u001b[0m\u001b[0m\n",
      "\u001b[0;31mIOError\u001b[0m: [Errno 2] No such file or directory: '/DRIVE PATH H/#cybersecurity.txt'"
     ]
    }
   ],
   "source": [
    "import csv\n",
    "import os\n",
    "import re\n",
    "from nltk.corpus import stopwords \n",
    "from nltk.tokenize import word_tokenize \n",
    "from nltk.stem import PorterStemmer\n",
    "import time\n",
    "import datetime\n",
    "import os\n",
    "now = datetime.datetime.now()\n",
    "from nltk.stem import WordNetLemmatizer\n",
    "\n",
    "def chec(s):\n",
    "    try:\n",
    "        int(s)\n",
    "        return True\n",
    "    except ValueError:\n",
    "        pass\n",
    "\n",
    "\n",
    "topics = [\"#cybersecurity\",\"#hack\",\"#cybercrime\",\"#cyber\"]\n",
    "for topic in topics:\n",
    "    #print(topic)\n",
    "    output=open('/DRIVE PATH HERE/'+topic+'.txt','a')\n",
    "    #print(os.getcwd()+'/ORIGINAL DATA/'+'topic'+'.csv')\n",
    "    with open('/DRIVE PATH HERE/'+topic+'.csv',\"rt\") as f:\n",
    "        rows = csv.reader(f,delimiter=',')\n",
    "        for row in rows:\n",
    "            #print row[1]\n",
    "            punctuations = '''!()-[]{};:'’\"\\,.,”“.“‘<>—./?@#$%^&*_~'''\n",
    "            punctFreeString=\"\"\n",
    "            for character in row[1]:\n",
    "                if(character not in punctuations):\n",
    "                    punctFreeString = punctFreeString + character\n",
    "            specialCharStripp = re.sub('[^A-Za-z0-9]+\\s', '', punctFreeString)\n",
    "            specEolRem = specialCharStripp.replace(\"¶\",\"\")\n",
    "            output.write(specEolRem+'\\n\\n') # store file\n",
    "            stop_words = set(stopwords.words('english')) \n",
    "            word_tokens = word_tokenize(specEolRem)\n",
    "            #print(word_tokens)\n",
    "            #filtered_sentence = [w for w in word_tokens if not w in stop_words] \n",
    "            filtered_sentence = []\n",
    "            for w in word_tokens: \n",
    "                if w not in stop_words: \n",
    "                    #print(\"Word to be aded\")\n",
    "                    #print(w)\n",
    "                    filtered_sentence.append(unicode(w, errors='ignore'))\n",
    "            finalStem =[]\n",
    "            porter = PorterStemmer()\n",
    "            for words in range(0,len(filtered_sentence)):\n",
    "                #print(filtered_sentence[words])\n",
    "                wrd = porter.stem(filtered_sentence[words])\n",
    "                finalStem.append(wrd)\n",
    "            for data in (finalStem):\n",
    "                file1 = open(os.getcwd()+'/'+topic+now.strftime(\"%Y-%m-%d %H:%M\")+'.txt', 'a')\n",
    "                if chec(data.strip())!=True:\n",
    "                    if(len(data.strip())>2):\n",
    "                        file1.write(data.encode('utf-8')+' ')\n",
    "                file1.write(data.encode('utf-8'))\n",
    "                file1.close()"
   ]
  },
  {
   "cell_type": "code",
   "execution_count": null,
   "metadata": {},
   "outputs": [],
   "source": []
  },
  {
   "cell_type": "code",
   "execution_count": null,
   "metadata": {},
   "outputs": [],
   "source": []
  }
 ],
 "metadata": {
  "kernelspec": {
   "display_name": "Python 2",
   "language": "python",
   "name": "python2"
  },
  "language_info": {
   "codemirror_mode": {
    "name": "ipython",
    "version": 2
   },
   "file_extension": ".py",
   "mimetype": "text/x-python",
   "name": "python",
   "nbconvert_exporter": "python",
   "pygments_lexer": "ipython2",
   "version": "2.7.15"
  }
 },
 "nbformat": 4,
 "nbformat_minor": 2
}
